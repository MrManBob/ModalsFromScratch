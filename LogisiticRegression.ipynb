{
 "cells": [
  {
   "cell_type": "code",
   "execution_count": 1,
   "id": "f958354b-4ce1-4aa9-b587-f0da032c484e",
   "metadata": {},
   "outputs": [],
   "source": [
    "import numpy as np\n",
    "import matplotlib.pyplot as plt\n",
    "import copy, math"
   ]
  },
  {
   "cell_type": "code",
   "execution_count": 23,
   "id": "0c531c3a-a706-4737-8307-2af801d3a966",
   "metadata": {},
   "outputs": [],
   "source": [
    "#creating the dataset\n",
    "x_train = np.array([[0.5, 1.5], [1,1], [1.5, 0.5], [3, 0.5], [2, 2], [1, 2.5]])  #(m,n)\n",
    "y_train = np.array([0, 0, 0, 1, 1, 1])     #(m,)\n",
    "\n",
    "w=[0, 1]\n",
    "b=1"
   ]
  },
  {
   "cell_type": "code",
   "execution_count": 27,
   "id": "cb963ca1-dd77-4d71-b475-743d4b7880dc",
   "metadata": {},
   "outputs": [
    {
     "name": "stdout",
     "output_type": "stream",
     "text": [
      "[0.95257413 0.81757448]\n"
     ]
    }
   ],
   "source": [
    "#creating the formula\n",
    "def f_sigmod(x, w, b):\n",
    "    f=np.dot(x, w) + b \n",
    "    z = 1/(1+np.exp(-f))\n",
    "    return z\n",
    "print(f_sigmod(w, b, x_train[3]))"
   ]
  },
  {
   "cell_type": "code",
   "execution_count": 28,
   "id": "4b0d0d56-dbb8-4441-a430-efe5f981fb1f",
   "metadata": {},
   "outputs": [
    {
     "name": "stdout",
     "output_type": "stream",
     "text": [
      "-1.0212466625815266\n"
     ]
    }
   ],
   "source": [
    "#creating the cost function\n",
    "def c(x, y, w, b):\n",
    "    m = x.shape[0]\n",
    "    error = 0\n",
    "    add = 0\n",
    "    for i in range(m):\n",
    "        error = y[i] * np.log(f_sigmod(x[i], w, b)) - (1 - y[i]) * np.log(1 - f_sigmod(x[i], w, b))\n",
    "        add = add + error\n",
    "    J = -(1 / m) * add\n",
    "    return J\n",
    "print(c(x_train, y_train, w, b))"
   ]
  },
  {
   "cell_type": "code",
   "execution_count": 29,
   "id": "516e8dfa-100e-45a8-bc4e-20f71d666317",
   "metadata": {},
   "outputs": [
    {
     "name": "stdout",
     "output_type": "stream",
     "text": [
      "[0.31629819 0.40274199]\n",
      "0.39389162440250053\n"
     ]
    }
   ],
   "source": [
    "#creating gradient for 1 iter\n",
    "def g(w, b, x, y):\n",
    "    m,num = x.shape\n",
    "    w_add = 0\n",
    "    b_add = 0\n",
    "    w_error = np.zeros((num,))\n",
    "    for i in range(m):\n",
    "        err = (f_sigmod(x[i], w, b) - y[i])\n",
    "        for n in range(num):\n",
    "            w_error[n] = w_error[n] + (err*x[i,n])\n",
    "            #w_add += w_error[i]\n",
    "        b_error = (f_sigmod(x[i], w, b) - y[i])\n",
    "        b_add += b_error\n",
    "\n",
    "    w_one_m = w_error / m\n",
    "    b_one_m = b_add / m\n",
    "    #w = w - (a*w_one_m)\n",
    "    #b = b - (a*b_one_m)\n",
    "\n",
    "    return w_one_m, b_one_m\n",
    "w_t, b_t = g(w, b, x_train, y_train)\n",
    "print(w_t)\n",
    "print(b_t)\n"
   ]
  },
  {
   "cell_type": "code",
   "execution_count": 31,
   "id": "b8578d2b-8e75-4b8a-a9b3-254cdb276627",
   "metadata": {},
   "outputs": [
    {
     "name": "stdout",
     "output_type": "stream",
     "text": [
      "Gradient for weights (dw): [-0.86404199 -1.12939631]\n",
      "Gradient for bias (db): -0.2653543267791187\n"
     ]
    }
   ],
   "source": [
    "# Test data\n",
    "x_train = np.array([[1, 2], [2, 3], [3, 4]])\n",
    "y_train = np.array([0, 1, 1])\n",
    "w = np.array([0.5, -0.5])\n",
    "b = 0.1\n",
    "\n",
    "# Compute the gradients\n",
    "dw, db = g(w, b, x_train, y_train)\n",
    "print(\"Gradient for weights (dw):\", dw)\n",
    "print(\"Gradient for bias (db):\", db)"
   ]
  },
  {
   "cell_type": "code",
   "execution_count": 32,
   "id": "6eaca446-c968-4956-a46f-6e334384515a",
   "metadata": {},
   "outputs": [
    {
     "name": "stdout",
     "output_type": "stream",
     "text": [
      "(array([ 4.33620461, -0.8539088 ]), np.float64(-4.090113409899327), [np.float64(0.1673304199294591), np.float64(-0.1906220275363061), np.float64(-0.19530886185466606), np.float64(-0.18749651549299623), np.float64(-0.17928731680376042), np.float64(-0.1715251791915126), np.float64(-0.16424363195572333), np.float64(-0.15741488321601055), np.float64(-0.1510080284012612), np.float64(-0.14499373048927036), np.float64(-0.13934455513006255), np.float64(-0.1340349281717534), np.float64(-0.12904105206938662), np.float64(-0.12434081361255181), np.float64(-0.11991368838675276), np.float64(-0.11574064442285603), np.float64(-0.11180404676952567), np.float64(-0.10808756428443968), np.float64(-0.10457607959197747), np.float64(-0.1012556028723124), np.float64(-0.0981131899193138), np.float64(-0.09513686472417178), np.float64(-0.09231554670068143), np.float64(-0.0896389825599795), np.float64(-0.08709768276127308), np.float64(-0.08468286240569119), np.float64(-0.08238638639845178), np.float64(-0.0802007186764922), np.float64(-0.07811887528149644), np.float64(-0.07613438104945637), np.float64(-0.07424122968548037), np.float64(-0.07243384699490563), np.float64(-0.0707070570476032), np.float64(-0.06905605106063273), np.float64(-0.06747635879434458), np.float64(-0.06596382226799093), np.float64(-0.06451457161241658), np.float64(-0.06312500288912413), np.float64(-0.061791757716634546), np.float64(-0.060511704556436924), np.float64(-0.05928192152177942), np.float64(-0.05809968058301736), np.float64(-0.0569624330531322), np.float64(-0.05586779624635191), np.float64(-0.05481354121151384), np.float64(-0.053797581449922346), np.float64(-0.0528179625349792), np.float64(-0.051872852557827226), np.float64(-0.05096053332966461), np.float64(-0.050079392277301335), np.float64(-0.049227914973953), np.float64(-0.04840467825226066), np.float64(-0.04760834385106827), np.float64(-0.04683765255168666), np.float64(-0.046091418763176545), np.float64(-0.04536852551967875), np.float64(-0.044667919856002), np.float64(-0.04398860853058959), np.float64(-0.04332965406763709), np.float64(-0.042690171092549696), np.float64(-0.042069322937144105), np.float64(-0.04146631849299812), np.float64(-0.04088040929320133), np.float64(-0.04031088680441847), np.float64(-0.03975707991271578), np.float64(-0.03921835258798045), np.float64(-0.038694101713044105), np.float64(-0.03818375506476563), np.float64(-0.03768676943539882), np.float64(-0.037202628883525185), np.float64(-0.03673084310471722), np.float64(-0.03627094591289793), np.float64(-0.03582249382410255), np.float64(-0.03538506473501349), np.float64(-0.034958256689259656), np.float64(-0.03454168672502465), np.float64(-0.03413498979803003), np.float64(-0.03373781777442636), np.float64(-0.033349838488551345), np.float64(-0.032970734860917145), np.float64(-0.0326002040721411), np.float64(-0.032237956788872923), np.float64(-0.0318837164380689), np.float64(-0.03153721852624849), np.float64(-0.031198210000618568), np.float64(-0.0308664486491902), np.float64(-0.030541702537228148), np.float64(-0.030223749477567875), np.float64(-0.029912376532524213), np.float64(-0.029607379545277285), np.float64(-0.029308562698779073), np.float64(-0.029015738100370704), np.float64(-0.028728725390419683), np.float64(-0.028447351373421914), np.float64(-0.028171449670114708), np.float64(-0.027900860389254413), np.float64(-0.027635429817804917), np.float64(-0.02737501012837647), np.float64(-0.027119459102825944), np.float64(-0.026868639871015253)])\n"
     ]
    }
   ],
   "source": [
    "#calculating gradient descent\n",
    "def gd(w_in, b_in, x, y, a, c, g, iters):\n",
    "    #m = x.shape[0]\n",
    "    w_final = copy.deepcopy(w_in)\n",
    "    b_final = b_in\n",
    "    p = []\n",
    "    w_g = 0\n",
    "    b_g = 0\n",
    "    for i in range(iters):\n",
    "        w_g, b_g = g(w_final, b_final, x, y)\n",
    "        w_final = w_final - (a*w_g)\n",
    "        b_final = b_final - (a*b_g)\n",
    "        if i % 10 == 0:\n",
    "            p.append(c(x, y, w_final, b_final))\n",
    "    return w_final, b_final, p\n",
    "print(gd(w, b, x_train, y_train, 0.1, c, g, 1000))"
   ]
  },
  {
   "cell_type": "code",
   "execution_count": 40,
   "id": "ac1f64d4-61bc-45a2-a551-9cc546dc7e58",
   "metadata": {
    "scrolled": true
   },
   "outputs": [
    {
     "data": {
      "text/plain": [
       "[<matplotlib.lines.Line2D at 0x1fbf94373e0>]"
      ]
     },
     "execution_count": 40,
     "metadata": {},
     "output_type": "execute_result"
    },
    {
     "data": {
      "image/png": "[encoded data removed]",
      "text/plain": [
       "<Figure size 640x480 with 1 Axes>"
      ]
     },
     "metadata": {},
     "output_type": "display_data"
    }
   ],
   "source": [
    "#graphing out graident descent to check if it is working properly.\n",
    "w_graph, b_graph, p = gd(w, b, x_train, y_train, 0.00001, c, g, 100000)\n",
    "p_iters = np.arange(len(p))\n",
    "plt.plot(p_iters, p)"
   ]
  },
  {
   "cell_type": "code",
   "execution_count": null,
   "id": "343528db-f0d2-4a69-9a8b-7fc7c6ac91f4",
   "metadata": {},
   "outputs": [],
   "source": []
  }
 ],
 "metadata": {
  "kernelspec": {
   "display_name": "Python 3 (ipykernel)",
   "language": "python",
   "name": "python3"
  },
  "language_info": {
   "codemirror_mode": {
    "name": "ipython",
    "version": 3
   },
   "file_extension": ".py",
   "mimetype": "text/x-python",
   "name": "python",
   "nbconvert_exporter": "python",
   "pygments_lexer": "ipython3",
   "version": "3.12.9"
  }
 },
 "nbformat": 4,
 "nbformat_minor": 5
}
