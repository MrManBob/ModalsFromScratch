{
 "cells": [
  {
   "cell_type": "code",
   "execution_count": 1,
   "id": "3b731866-633e-4f96-98df-68b93d46db05",
   "metadata": {
    "scrolled": true
   },
   "outputs": [],
   "source": [
    "import numpy as np\n",
    "import random"
   ]
  },
  {
   "cell_type": "code",
   "execution_count": 18,
   "id": "a3574477-5ed1-47cd-ac47-515085614190",
   "metadata": {},
   "outputs": [
    {
     "name": "stdout",
     "output_type": "stream",
     "text": [
      "[[0.57850632 0.45626641 0.11239677 0.3616477 ]\n",
      " [0.09043531 0.28743158 0.12874426 0.87429403]]\n",
      "[[0.3168889 ]\n",
      " [0.62073389]\n",
      " [0.70778755]\n",
      " [0.24151546]]\n"
     ]
    }
   ],
   "source": [
    "#creating dataset\n",
    "match = 4\n",
    "x_train = np.random.rand(2, match)\n",
    "output_features = 1  # You can change this to whatever you need\n",
    "W = np.random.rand(match, output_features)\n",
    "b = 10\n",
    "print(x_train)\n",
    "print(W)"
   ]
  },
  {
   "cell_type": "code",
   "execution_count": 19,
   "id": "8d4382f1-796d-4f2c-b967-c852564cce1b",
   "metadata": {},
   "outputs": [],
   "source": [
    "# creating the sigmoid function\n",
    "def g(f):\n",
    "    z = 1/(1+np.exp(-f))\n",
    "    return z"
   ]
  },
  {
   "cell_type": "code",
   "execution_count": 20,
   "id": "cc4d950d-5ad7-42b2-a1f4-9e7a9835eb50",
   "metadata": {},
   "outputs": [],
   "source": [
    "# 1 neuron \n",
    "def dense(A_in, W, b, g):\n",
    "    A_out = g(np.matmul(A_in, W) + b) # vectorized implementation\n",
    "    return A_out"
   ]
  },
  {
   "cell_type": "code",
   "execution_count": 21,
   "id": "bdd98158-3959-4d1e-aa50-0e4578936499",
   "metadata": {},
   "outputs": [
    {
     "name": "stdout",
     "output_type": "stream",
     "text": [
      "[[0.9999759 ]\n",
      " [0.99997272]]\n"
     ]
    }
   ],
   "source": [
    "print(dense(x_train, W, b, g))"
   ]
  },
  {
   "cell_type": "code",
   "execution_count": 22,
   "id": "aaef30bc-c695-4f11-b25e-4f83ecd8b76b",
   "metadata": {},
   "outputs": [],
   "source": [
    "# creating the my_sequential neural 'network'\n",
    "def my_sequential(x_train, W, b, g):\n",
    "    a = dense(x_train, W, b, g)\n",
    "    return a"
   ]
  },
  {
   "cell_type": "code",
   "execution_count": null,
   "id": "e616be85-0f26-46f9-b6e1-cd41e5a132e1",
   "metadata": {},
   "outputs": [],
   "source": []
  }
 ],
 "metadata": {
  "kernelspec": {
   "display_name": "Python 3 (ipykernel)",
   "language": "python",
   "name": "python3"
  },
  "language_info": {
   "codemirror_mode": {
    "name": "ipython",
    "version": 3
   },
   "file_extension": ".py",
   "mimetype": "text/x-python",
   "name": "python",
   "nbconvert_exporter": "python",
   "pygments_lexer": "ipython3",
   "version": "3.12.9"
  }
 },
 "nbformat": 4,
 "nbformat_minor": 5
}
