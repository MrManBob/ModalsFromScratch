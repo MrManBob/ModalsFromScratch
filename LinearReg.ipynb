{
 "cells": [
  {
   "cell_type": "code",
   "execution_count": 1,
   "id": "082a9329-29a6-48b1-9fd8-47e72f2fd296",
   "metadata": {},
   "outputs": [],
   "source": [
    "import numpy as np\n",
    "import matplotlib.pyplot as plt"
   ]
  },
  {
   "cell_type": "code",
   "execution_count": 2,
   "id": "28f050ab-143c-4650-a4a9-9b171cb79002",
   "metadata": {},
   "outputs": [],
   "source": [
    "# Load our data set\n",
    "x_train = np.array([1.0, 2.0, 3.0, 4.0])   #features\n",
    "y_train = np.array([300.0, 550.0, 600.0, 800.0])   #target value"
   ]
  },
  {
   "cell_type": "code",
   "execution_count": 3,
   "id": "5a471e82-e031-4900-91fd-f502bc7585a2",
   "metadata": {},
   "outputs": [
    {
     "name": "stdout",
     "output_type": "stream",
     "text": [
      "4\n",
      "450.0\n",
      "[450.]\n",
      "650.0\n",
      "[450. 650.]\n",
      "850.0\n",
      "[450. 650. 850.]\n",
      "1050.0\n",
      "[ 450.  650.  850. 1050.]\n"
     ]
    }
   ],
   "source": [
    "#Implementing the graph\n",
    "m = len(x_train)\n",
    "print(m)\n",
    "x_formula = x_train # basically x predicted\n",
    "tmp_y_formula = np.array([])\n",
    "y_formula = np.array([]) # basically y predicted\n",
    "def my_formula(x, w, b):\n",
    "    w = w # slope\n",
    "    b = b # y-intercept\n",
    "    return (w*x)+b # modal\n",
    "for i in range(m):\n",
    "    tmp_y_formula = my_formula(x_train[i], 200, 250) # finding y quardinates using formula\n",
    "    y_formula = np.append(y_formula, tmp_y_formula) # appending numpy array\n",
    "    print(my_formula(x_train[i], 200, 250))\n",
    "    print(y_formula)"
   ]
  },
  {
   "cell_type": "code",
   "execution_count": 4,
   "id": "7911a301-1bc9-4797-95e2-69eab3f8ad48",
   "metadata": {},
   "outputs": [
    {
     "name": "stdout",
     "output_type": "stream",
     "text": [
      "19687.5\n"
     ]
    }
   ],
   "source": [
    "#calculating the cost function\n",
    "def cost_function(m, y_formula, y_train):\n",
    "    cost_function_sum = 0\n",
    "    for i in range(m):\n",
    "        error = (y_formula[i] - y_train[i])**2\n",
    "        cost_function_sum += error\n",
    "        cost_function = 1/(2*m)*cost_function_sum\n",
    "    return cost_function\n",
    "print(cost_function(m,y_formula, y_train))"
   ]
  },
  {
   "cell_type": "code",
   "execution_count": 32,
   "id": "4c0b2090-9a20-45d8-b995-8839045b292d",
   "metadata": {
    "scrolled": true
   },
   "outputs": [
    {
     "name": "stdout",
     "output_type": "stream",
     "text": [
      "(np.float64(154.99999487492312), np.float64(175.00001506835102))\n",
      "330.0000099432741\n",
      "[330.00000994]\n",
      "485.0000048181972\n",
      "[330.00000994 485.00000482]\n",
      "639.9999996931203\n",
      "[330.00000994 485.00000482 639.99999969]\n",
      "794.9999945680435\n",
      "[330.00000994 485.00000482 639.99999969 794.99999457]\n"
     ]
    }
   ],
   "source": [
    "#implementing gradient descent\n",
    "def gradient_descent(num_iters, x_train, y_train, alpha, w, b, m):\n",
    "    \n",
    "    for i in range(num_iters):\n",
    "        w_add = 0\n",
    "        b_add = 0\n",
    "        w_costfunction = 0\n",
    "        b_costfunction = 0\n",
    "        for a in range(m):\n",
    "            w_costfunction = (my_formula(x_train[a], w, b) - y_train[a]) * x_train[a]\n",
    "            w_add += w_costfunction\n",
    "\n",
    "            b_costfunction = (my_formula(x_train[a], w, b) - y_train[a])\n",
    "            b_add += b_costfunction\n",
    "            \n",
    "        w_calc = w_add/m\n",
    "        b_calc = b_add/m\n",
    "\n",
    "        w = w-(alpha*w_calc)\n",
    "        b = b-(alpha*b_calc)\n",
    "            \n",
    "    return w, b\n",
    "print(gradient_descent(1000, x_train, y_train, 0.1, 200, 250, m))\n",
    "w, b = gradient_descent(1000, x_train, y_train, 0.1, 200, 250, m)\n",
    "y_formula = np.array([])\n",
    "for i in range(m):\n",
    "    tmp_y_formula = my_formula(x_train[i], w, b) # finding y quardinates using formula\n",
    "    y_formula = np.append(y_formula, tmp_y_formula) # appending numpy array\n",
    "    print(my_formula(x_train[i], w, b))\n",
    "    print(y_formula)\n"
   ]
  },
  {
   "cell_type": "code",
   "execution_count": 33,
   "id": "5d45e8e7-98f4-4e1e-84a2-648b806897ba",
   "metadata": {
    "scrolled": true
   },
   "outputs": [
    {
     "data": {
      "image/png": "[encoded data removed]",
      "text/plain": [
       "<Figure size 640x480 with 1 Axes>"
      ]
     },
     "metadata": {},
     "output_type": "display_data"
    }
   ],
   "source": [
    "plt.scatter(x_train, y_train)\n",
    "plt.plot(x_formula, y_formula)\n",
    "plt.show()"
   ]
  },
  {
   "cell_type": "code",
   "execution_count": null,
   "id": "91ee6ebf-2eba-4a3d-8c68-676648e2fe5a",
   "metadata": {},
   "outputs": [],
   "source": []
  }
 ],
 "metadata": {
  "kernelspec": {
   "display_name": "Python 3 (ipykernel)",
   "language": "python",
   "name": "python3"
  },
  "language_info": {
   "codemirror_mode": {
    "name": "ipython",
    "version": 3
   },
   "file_extension": ".py",
   "mimetype": "text/x-python",
   "name": "python",
   "nbconvert_exporter": "python",
   "pygments_lexer": "ipython3",
   "version": "3.12.9"
  }
 },
 "nbformat": 4,
 "nbformat_minor": 5
}
