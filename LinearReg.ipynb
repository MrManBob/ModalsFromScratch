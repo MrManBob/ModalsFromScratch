{
 "cells": [
  {
   "cell_type": "code",
   "execution_count": 1,
   "id": "082a9329-29a6-48b1-9fd8-47e72f2fd296",
   "metadata": {},
   "outputs": [],
   "source": [
    "import numpy as np\n",
    "import matplotlib.pyplot as plt"
   ]
  },
  {
   "cell_type": "code",
   "execution_count": 47,
   "id": "28f050ab-143c-4650-a4a9-9b171cb79002",
   "metadata": {},
   "outputs": [],
   "source": [
    "# Load our data set\n",
    "x_train = np.array([1.0, 2.0, 3.0, 4.0])   #features\n",
    "y_train = np.array([300.0, 550.0, 600.0, 800.0])   #target value"
   ]
  },
  {
   "cell_type": "code",
   "execution_count": 61,
   "id": "5a471e82-e031-4900-91fd-f502bc7585a2",
   "metadata": {},
   "outputs": [
    {
     "name": "stdout",
     "output_type": "stream",
     "text": [
      "4\n",
      "450.0\n",
      "[450.]\n",
      "650.0\n",
      "[450. 650.]\n",
      "850.0\n",
      "[450. 650. 850.]\n",
      "1050.0\n",
      "[ 450.  650.  850. 1050.]\n"
     ]
    }
   ],
   "source": [
    "#Implementing the graph\n",
    "m = len(x_train)\n",
    "print(m)\n",
    "x_formula = x_train # basically x predicted\n",
    "tmp_y_formula = np.array([])\n",
    "y_formula = np.array([]) # basically y predicted\n",
    "def my_formula(x, w, b):\n",
    "    w = w # slope\n",
    "    b = b # y-intercept\n",
    "    return (w*x)+b # modal\n",
    "for i in range(m):\n",
    "    tmp_y_formula = my_formula(x_train[i], 200, 250) # finding y quardinates using formula\n",
    "    y_formula = np.append(y_formula, tmp_y_formula) # appending numpy array\n",
    "    print(my_formula(x_train[i], 200, 250))\n",
    "    print(y_formula)"
   ]
  },
  {
   "cell_type": "code",
   "execution_count": 62,
   "id": "7911a301-1bc9-4797-95e2-69eab3f8ad48",
   "metadata": {},
   "outputs": [
    {
     "name": "stdout",
     "output_type": "stream",
     "text": [
      "19687.5\n"
     ]
    }
   ],
   "source": [
    "#calculating the cost function\n",
    "def cost_function(m, y_formula, y_train):\n",
    "    cost_function_sum = 0\n",
    "    for i in range(m):\n",
    "        error = (y_formula[i] - y_train[i])**2\n",
    "        cost_function_sum += error\n",
    "        cost_function = 1/(2*m)*cost_function_sum\n",
    "    return cost_function\n",
    "print(cost_function(m,y_formula, y_train))"
   ]
  },
  {
   "cell_type": "code",
   "execution_count": 72,
   "id": "4c0b2090-9a20-45d8-b995-8839045b292d",
   "metadata": {},
   "outputs": [
    {
     "ename": "IndexError",
     "evalue": "index 4 is out of bounds for axis 0 with size 4",
     "output_type": "error",
     "traceback": [
      "\u001b[1;31m---------------------------------------------------------------------------\u001b[0m",
      "\u001b[1;31mIndexError\u001b[0m                                Traceback (most recent call last)",
      "Cell \u001b[1;32mIn[72], line 20\u001b[0m\n\u001b[0;32m     18\u001b[0m         b_return \u001b[38;5;241m=\u001b[39m b\u001b[38;5;241m-\u001b[39m(alpha\u001b[38;5;241m*\u001b[39mb)\n\u001b[0;32m     19\u001b[0m     \u001b[38;5;28;01mreturn\u001b[39;00m w_return,b_return\n\u001b[1;32m---> 20\u001b[0m \u001b[38;5;28mprint\u001b[39m(\u001b[43mgradient_descent\u001b[49m\u001b[43m(\u001b[49m\u001b[38;5;241;43m100\u001b[39;49m\u001b[43m,\u001b[49m\u001b[43m \u001b[49m\u001b[43mx_train\u001b[49m\u001b[43m,\u001b[49m\u001b[43m \u001b[49m\u001b[43my_train\u001b[49m\u001b[43m,\u001b[49m\u001b[43m \u001b[49m\u001b[38;5;241;43m20\u001b[39;49m\u001b[43m,\u001b[49m\u001b[43m \u001b[49m\u001b[38;5;241;43m200\u001b[39;49m\u001b[43m,\u001b[49m\u001b[43m \u001b[49m\u001b[38;5;241;43m250\u001b[39;49m\u001b[43m,\u001b[49m\u001b[43m \u001b[49m\u001b[43mm\u001b[49m\u001b[43m)\u001b[49m)\n",
      "Cell \u001b[1;32mIn[72], line 6\u001b[0m, in \u001b[0;36mgradient_descent\u001b[1;34m(num_iters, x_train, y_train, alpha, init_w, init_b, m)\u001b[0m\n\u001b[0;32m      4\u001b[0m b_add \u001b[38;5;241m=\u001b[39m \u001b[38;5;241m0\u001b[39m\n\u001b[0;32m      5\u001b[0m \u001b[38;5;28;01mfor\u001b[39;00m i \u001b[38;5;129;01min\u001b[39;00m \u001b[38;5;28mrange\u001b[39m(num_iters):\n\u001b[1;32m----> 6\u001b[0m     w_tmp \u001b[38;5;241m=\u001b[39m (my_formula(\u001b[43mx_train\u001b[49m\u001b[43m[\u001b[49m\u001b[43mi\u001b[49m\u001b[43m]\u001b[49m, init_w, init_b) \u001b[38;5;241m-\u001b[39m y_train[i]) \u001b[38;5;241m*\u001b[39m x_train[i]\n\u001b[0;32m      7\u001b[0m     w_add \u001b[38;5;241m+\u001b[39m\u001b[38;5;241m=\u001b[39m w_tmp\n\u001b[0;32m      8\u001b[0m     w \u001b[38;5;241m=\u001b[39m \u001b[38;5;241m1\u001b[39m\u001b[38;5;241m/\u001b[39m(m\u001b[38;5;241m*\u001b[39mw_add)\n",
      "\u001b[1;31mIndexError\u001b[0m: index 4 is out of bounds for axis 0 with size 4"
     ]
    }
   ],
   "source": [
    "#implementing gradient descent\n",
    "def gradient_descent(num_iters, x_train, y_train, alpha, init_w, init_b, m):\n",
    "    w_add = 0\n",
    "    b_add = 0\n",
    "    for i in range(num_iters):\n",
    "        w_tmp = (my_formula(x_train[i], init_w, init_b) - y_train[i]) * x_train[i]\n",
    "        w_add += w_tmp\n",
    "        w = 1/(m*w_add)\n",
    "        \n",
    "        b_tmp = (my_formula(x_train[i], init_w, init_b) - y_train[i])\n",
    "        b_add += b_tmp\n",
    "        b = 1/(m*b_add)\n",
    "\n",
    "        init_w = w\n",
    "        init_b = b\n",
    "\n",
    "        w_return = w-(alpha*w)\n",
    "        b_return = b-(alpha*b)\n",
    "    return w_return,b_return\n",
    "print(gradient_descent(100, x_train, y_train, 20, 200, 250, m))"
   ]
  },
  {
   "cell_type": "code",
   "execution_count": 69,
   "id": "5d45e8e7-98f4-4e1e-84a2-648b806897ba",
   "metadata": {
    "scrolled": true
   },
   "outputs": [
    {
     "data": {
      "image/png": "[encoded data removed]",
      "text/plain": [
       "<Figure size 640x480 with 1 Axes>"
      ]
     },
     "metadata": {},
     "output_type": "display_data"
    }
   ],
   "source": [
    "plt.scatter(x_train, y_train)\n",
    "plt.plot(x_formula, y_formula)\n",
    "plt.show()"
   ]
  },
  {
   "cell_type": "code",
   "execution_count": null,
   "id": "91ee6ebf-2eba-4a3d-8c68-676648e2fe5a",
   "metadata": {},
   "outputs": [],
   "source": []
  }
 ],
 "metadata": {
  "kernelspec": {
   "display_name": "Python 3 (ipykernel)",
   "language": "python",
   "name": "python3"
  },
  "language_info": {
   "codemirror_mode": {
    "name": "ipython",
    "version": 3
   },
   "file_extension": ".py",
   "mimetype": "text/x-python",
   "name": "python",
   "nbconvert_exporter": "python",
   "pygments_lexer": "ipython3",
   "version": "3.12.9"
  }
 },
 "nbformat": 4,
 "nbformat_minor": 5
}
