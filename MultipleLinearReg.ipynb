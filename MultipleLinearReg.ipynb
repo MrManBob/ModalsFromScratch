{
 "cells": [
  {
   "cell_type": "code",
   "execution_count": 1,
   "id": "09fbfa18-1d9d-4dcc-8417-f00b2a613a4d",
   "metadata": {},
   "outputs": [],
   "source": [
    "import copy, math\n",
    "import numpy as np\n",
    "import matplotlib.pyplot as plt"
   ]
  },
  {
   "cell_type": "code",
   "execution_count": 2,
   "id": "fcd9de9a-f41c-4562-8fc0-db59ff7f3d35",
   "metadata": {},
   "outputs": [
    {
     "name": "stdout",
     "output_type": "stream",
     "text": [
      "[[  1.   2.   3.   4.   5.   6.]\n",
      " [  2.   4.   6.   8.  10.  12.]\n",
      " [101. 201. 301. 401. 501. 601.]]\n",
      "[1, 1, 1, 1, 1, 1]\n"
     ]
    }
   ],
   "source": [
    "x_train = np.array([[1.0, 2.0, 3.0, 4.0, 5.0, 6.0],\n",
    "            [2.0, 4.0, 6.0, 8.0, 10.0, 12.0],\n",
    "            [101.0, 201.0, 301.0, 401.0, 501.0, 601.0]])\n",
    "# [101.0, 201.0, 301.0, 401.0, 501.0, 601.0]\n",
    "y_train = np.array([4, 6, 8, 10, 12, 14])\n",
    "#w = np.zeros(len(x_train[0]))\n",
    "w=[1, 1, 1, 1, 1, 1]\n",
    "print(x_train)\n",
    "print(w)\n",
    "b=10"
   ]
  },
  {
   "cell_type": "code",
   "execution_count": 3,
   "id": "33bc72e6-74a8-418d-a519-219a9c053898",
   "metadata": {},
   "outputs": [
    {
     "name": "stdout",
     "output_type": "stream",
     "text": [
      "[[0.16666667 0.33333333 0.5        0.66666667 0.83333333 1.        ]\n",
      " [0.16666667 0.33333333 0.5        0.66666667 0.83333333 1.        ]\n",
      " [0.16805324 0.3344426  0.50083195 0.6672213  0.83361065 1.        ]]\n"
     ]
    }
   ],
   "source": [
    "#feature scalling\n",
    "m,n = x_train.shape\n",
    "for i in range(m):\n",
    "    for j in range(n):\n",
    "        x_train[i][j] = x_train[i][j] / max(x_train[i])\n",
    "print(x_train)"
   ]
  },
  {
   "cell_type": "code",
   "execution_count": 4,
   "id": "ff5df693-8fd0-4f37-80e6-70e686466266",
   "metadata": {
    "scrolled": true
   },
   "outputs": [
    {
     "name": "stdout",
     "output_type": "stream",
     "text": [
      "[13.5        13.5        13.50415973]\n"
     ]
    }
   ],
   "source": [
    "#calculating the formula\n",
    "def myformula(x, w, b):\n",
    "    f=np.dot(x, w) + b \n",
    "    return f\n",
    "print(myformula(x_train, w, b))"
   ]
  },
  {
   "cell_type": "code",
   "execution_count": 5,
   "id": "b917826f-d32c-49a2-92f8-1157d8e10c8e",
   "metadata": {
    "scrolled": true
   },
   "outputs": [
    {
     "name": "stdout",
     "output_type": "stream",
     "text": [
      "29.46596239582209\n"
     ]
    }
   ],
   "source": [
    "#calculating cost function\n",
    "def costfunc(x, y, w, b,):\n",
    "    m = x.shape[0]\n",
    "    error = 0\n",
    "    add = 0\n",
    "    for i in range(m):\n",
    "        error = (myformula(x[i], w, b) - y[i])**2\n",
    "        add = add + error\n",
    "    J = (1 / (2 * m)) * add\n",
    "    return J\n",
    "print(costfunc(x_train, y_train, w, b))"
   ]
  },
  {
   "cell_type": "code",
   "execution_count": 6,
   "id": "726ecc6b-5855-43d6-b41c-7b1533c4c895",
   "metadata": {
    "scrolled": true
   },
   "outputs": [
    {
     "name": "stdout",
     "output_type": "stream",
     "text": [
      "[1.25277508 2.50249738 3.75221968 5.00194198 6.25166428 7.50138658]\n",
      "7.501386577925679\n"
     ]
    }
   ],
   "source": [
    "#calculating gradient for 1 iter\n",
    "def g(w, b, x, y):\n",
    "    m,num = x.shape\n",
    "    w_add = 0\n",
    "    b_add = 0\n",
    "    w_error = np.zeros((num,))\n",
    "    for i in range(m):\n",
    "        err = (myformula(x[i], w, b) - y[i])\n",
    "        for n in range(num):\n",
    "            w_error[n] = w_error[n] + (err*x[i,n])\n",
    "            #w_add += w_error[i]\n",
    "            \n",
    "        b_error = (myformula(x[i], w, b) - y[i])\n",
    "        b_add += b_error\n",
    "\n",
    "    w_one_m = w_error / m\n",
    "    b_one_m = b_add / m\n",
    "    #w = w - (a*w_one_m)\n",
    "    #b = b - (a*b_one_m)\n",
    "\n",
    "    return w_one_m, b_one_m\n",
    "w_t, b_t = g(w, b, x_train, y_train)\n",
    "print(w_t)\n",
    "print(b_t)\n"
   ]
  },
  {
   "cell_type": "code",
   "execution_count": 7,
   "id": "44fc9cad-bb8f-4138-b3cc-858d373f4c35",
   "metadata": {
    "scrolled": true
   },
   "outputs": [
    {
     "name": "stdout",
     "output_type": "stream",
     "text": [
      "(array([ 0.73204603,  0.35439294, -0.02326015, -0.40091325, -0.77856634,\n",
      "       -1.15621943]), np.float64(7.843780569752406), [np.float64(13.11378848419395), np.float64(1.3348064110598863), np.float64(1.332851747029963), np.float64(1.3328498742094044), np.float64(1.332848325190569), np.float64(1.332846776227824), np.float64(1.3328452272674898), np.float64(1.3328436783095545), np.float64(1.3328421293540202), np.float64(1.332840580400887), np.float64(1.3328390314501537), np.float64(1.3328374825018199), np.float64(1.3328359335558881), np.float64(1.3328343846123563), np.float64(1.3328328356712247), np.float64(1.3328312867324927), np.float64(1.3328297377961618), np.float64(1.3328281888622318), np.float64(1.3328266399307012), np.float64(1.3328250910015715), np.float64(1.3328235420748424), np.float64(1.3328219931505134), np.float64(1.332820444228585), np.float64(1.3328188953090572), np.float64(1.332817346391929), np.float64(1.3328157974772021), np.float64(1.3328142485648746), np.float64(1.3328126996549485), np.float64(1.332811150747422), np.float64(1.3328096018422964), np.float64(1.332808052939571), np.float64(1.3328065040392458), np.float64(1.3328049551413212), np.float64(1.3328034062457963), np.float64(1.3328018573526725), np.float64(1.3328003084619484), np.float64(1.332798759573626), np.float64(1.3327972106877024), np.float64(1.3327956618041796), np.float64(1.332794112923057), np.float64(1.3327925640443354), np.float64(1.3327910151680133), np.float64(1.3327894662940913), np.float64(1.3327879174225705), np.float64(1.3327863685534507), np.float64(1.3327848196867291), np.float64(1.3327832708224092), np.float64(1.3327817219604894), np.float64(1.33278017310097), np.float64(1.3327786242438502), np.float64(1.3327770753891315), np.float64(1.3327755265368126), np.float64(1.3327739776868943), np.float64(1.3327724288393754), np.float64(1.3327708799942584), np.float64(1.3327693311515403), np.float64(1.332767782311223), np.float64(1.3327662334733064), np.float64(1.3327646846377887), np.float64(1.332763135804672), np.float64(1.3327615869739553), np.float64(1.3327600381456395), np.float64(1.3327584893197235), np.float64(1.3327569404962079), np.float64(1.332755391675093), np.float64(1.332753842856378), np.float64(1.3327522940400625), np.float64(1.3327507452261473), np.float64(1.3327491964146332), np.float64(1.3327476476055184), np.float64(1.3327460987988042), np.float64(1.3327445499944912), np.float64(1.3327430011925772), np.float64(1.3327414523930639), np.float64(1.3327399035959506), np.float64(1.3327383548012375), np.float64(1.3327368060089244), np.float64(1.3327352572190114), np.float64(1.3327337084314994), np.float64(1.332732159646387), np.float64(1.3327306108636745), np.float64(1.3327290620833625), np.float64(1.3327275133054508), np.float64(1.3327259645299387), np.float64(1.3327244157568274), np.float64(1.3327228669861158), np.float64(1.3327213182178048), np.float64(1.3327197694518937), np.float64(1.3327182206883827), np.float64(1.332716671927272), np.float64(1.3327151231685614), np.float64(1.3327135744122507), np.float64(1.3327120256583405), np.float64(1.3327104769068303), np.float64(1.3327089281577202), np.float64(1.3327073794110098), np.float64(1.3327058306667003), np.float64(1.3327042819247903), np.float64(1.3327027331852808), np.float64(1.3327011844481718)])\n"
     ]
    }
   ],
   "source": [
    "#w_in = np.zeros(3)\n",
    "#calculating gradient descent\n",
    "def gd(w_in, b_in, x, y, a, costfunc, g, iters):\n",
    "    #m = x.shape[0]\n",
    "    w_final = copy.deepcopy(w_in)\n",
    "    b_final = b_in\n",
    "    c = []\n",
    "    w_g = 0\n",
    "    b_g = 0\n",
    "    for i in range(iters):\n",
    "        w_g, b_g = g(w_final, b_final, x, y)\n",
    "        w_final = w_final - (a*w_g)\n",
    "        b_final = b_final - (a*b_g)\n",
    "        if i % 10 == 0:\n",
    "            c.append(costfunc(x, y, w_final, b_final))\n",
    "    return w_final, b_final, c\n",
    "print(gd(w, b, x_train, y_train, 0.1, costfunc, g, 1000))"
   ]
  },
  {
   "cell_type": "code",
   "execution_count": 8,
   "id": "a0422453-2cad-4175-be41-4b0d290cfe03",
   "metadata": {
    "scrolled": true
   },
   "outputs": [
    {
     "data": {
      "text/plain": [
       "[<matplotlib.lines.Line2D at 0x2539315cc50>]"
      ]
     },
     "execution_count": 8,
     "metadata": {},
     "output_type": "execute_result"
    },
    {
     "data": {
      "image/png": "[encoded data removed]",
      "text/plain": [
       "<Figure size 640x480 with 1 Axes>"
      ]
     },
     "metadata": {},
     "output_type": "display_data"
    }
   ],
   "source": [
    "#graphing out graident descent to check if it is working properly.\n",
    "w_graph, b_graph, c = gd(w, b, x_train, y_train, 0.3, costfunc, g, 10000)\n",
    "c_iters = np.arange(len(c))\n",
    "#print(c_iters)\n",
    "plt.plot(c_iters, c)"
   ]
  },
  {
   "cell_type": "code",
   "execution_count": 9,
   "id": "5c25149e-652c-48b4-974d-8db75c797358",
   "metadata": {
    "scrolled": true
   },
   "outputs": [
    {
     "name": "stdout",
     "output_type": "stream",
     "text": [
      "5.997744393228359\n"
     ]
    }
   ],
   "source": [
    "print(myformula(x_train[0], w_graph, b_graph))"
   ]
  },
  {
   "cell_type": "code",
   "execution_count": null,
   "id": "b5882f3a-49bf-4f1b-94d8-36c6efdbed5b",
   "metadata": {},
   "outputs": [],
   "source": []
  }
 ],
 "metadata": {
  "kernelspec": {
   "display_name": "Python 3 (ipykernel)",
   "language": "python",
   "name": "python3"
  },
  "language_info": {
   "codemirror_mode": {
    "name": "ipython",
    "version": 3
   },
   "file_extension": ".py",
   "mimetype": "text/x-python",
   "name": "python",
   "nbconvert_exporter": "python",
   "pygments_lexer": "ipython3",
   "version": "3.12.9"
  }
 },
 "nbformat": 4,
 "nbformat_minor": 5
}
