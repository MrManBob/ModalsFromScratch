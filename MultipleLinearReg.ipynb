{
 "cells": [
  {
   "cell_type": "code",
   "execution_count": 2,
   "id": "09fbfa18-1d9d-4dcc-8417-f00b2a613a4d",
   "metadata": {},
   "outputs": [],
   "source": [
    "import numpy as np"
   ]
  },
  {
   "cell_type": "code",
   "execution_count": 30,
   "id": "fcd9de9a-f41c-4562-8fc0-db59ff7f3d35",
   "metadata": {},
   "outputs": [
    {
     "name": "stdout",
     "output_type": "stream",
     "text": [
      "[[  1.   2.   3.   4.   5.   6.]\n",
      " [  2.   4.   6.   8.  10.  12.]\n",
      " [101. 201. 301. 401. 501. 601.]]\n",
      "[11, 12, 13, 14, 15, 16]\n"
     ]
    }
   ],
   "source": [
    "x_train = np.array([[1.0, 2.0, 3.0, 4.0, 5.0, 6.0],\n",
    "            [2.0, 4.0, 6.0, 8.0, 10.0, 12.0],\n",
    "            [101.0, 201.0, 301.0, 401.0, 501.0, 601.0]])\n",
    "y_train = np.array([10, 20, 30, 40, 50, 60])\n",
    "#w = np.zeros(len(x_train[0]))\n",
    "w=[11, 12, 13, 14, 15, 16]\n",
    "print(x_train)\n",
    "print(w)\n",
    "b=10"
   ]
  },
  {
   "cell_type": "code",
   "execution_count": 31,
   "id": "ff5df693-8fd0-4f37-80e6-70e686466266",
   "metadata": {
    "scrolled": true
   },
   "outputs": [
    {
     "name": "stdout",
     "output_type": "stream",
     "text": [
      "[  311.   612. 30191.]\n"
     ]
    }
   ],
   "source": [
    "#calculating the formula\n",
    "def myformula(x, w, b):\n",
    "    f=np.dot(x, w) + b \n",
    "    return f\n",
    "print(myformula(x_train, w, b))"
   ]
  },
  {
   "cell_type": "code",
   "execution_count": 32,
   "id": "b917826f-d32c-49a2-92f8-1157d8e10c8e",
   "metadata": {},
   "outputs": [
    {
     "name": "stdout",
     "output_type": "stream",
     "text": [
      "[6.55540828e-07 1.58489858e-07 6.10306582e-11]\n"
     ]
    }
   ],
   "source": [
    "#calculating cost function\n",
    "def costfunc(x, y, w, b,):\n",
    "    m = x.shape[0]\n",
    "    error = 0\n",
    "    add = 0\n",
    "    for i in range(m):\n",
    "        error = (myformula(x, w, b) - y[i])**2\n",
    "        add = add + error\n",
    "        J = 1/((2*m)*add)\n",
    "    return J\n",
    "print(costfunc(x_train, y_train, w, b))\n",
    "    "
   ]
  },
  {
   "cell_type": "code",
   "execution_count": null,
   "id": "726ecc6b-5855-43d6-b41c-7b1533c4c895",
   "metadata": {},
   "outputs": [],
   "source": []
  }
 ],
 "metadata": {
  "kernelspec": {
   "display_name": "Python 3 (ipykernel)",
   "language": "python",
   "name": "python3"
  },
  "language_info": {
   "codemirror_mode": {
    "name": "ipython",
    "version": 3
   },
   "file_extension": ".py",
   "mimetype": "text/x-python",
   "name": "python",
   "nbconvert_exporter": "python",
   "pygments_lexer": "ipython3",
   "version": "3.12.9"
  }
 },
 "nbformat": 4,
 "nbformat_minor": 5
}
